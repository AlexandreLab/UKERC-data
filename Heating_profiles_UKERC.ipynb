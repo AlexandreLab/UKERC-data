{
 "cells": [
  {
   "cell_type": "code",
   "execution_count": 1,
   "metadata": {},
   "outputs": [
    {
     "name": "stdout",
     "output_type": "stream",
     "text": [
      "D:\\OneDrive - Cardiff University\\05 - Python\\08 - National Grid\n",
      "D:\n",
      "OneDrive - Cardiff University\n",
      "05 - Python\n",
      "08 - National Grid\n",
      "D:\\\n"
     ]
    },
    {
     "data": {
      "image/png": "[encoded data removed]",
      "text/plain": [
       "<Figure size 1080x72 with 1 Axes>"
      ]
     },
     "metadata": {},
     "output_type": "display_data"
    }
   ],
   "source": [
    "import numpy as np\n",
    "import pandas as pd\n",
    "import os\n",
    "import sys\n",
    "import datetime as dt\n",
    "\n",
    "computer_path = os.getcwd()\n",
    "\n",
    "sys.path.append(computer_path os.path.sep + r\"Functions\")\n",
    "import profiles as pr"
   ]
  },
  {
   "cell_type": "markdown",
   "metadata": {},
   "source": [
    "### Creation of the profiles using the machine learning models built for each technology and a daily temperature profile\n",
    "the ASHPs and GSHps are designed for a -3.2C OAT"
   ]
  },
  {
   "cell_type": "code",
   "execution_count": 75,
   "metadata": {},
   "outputs": [],
   "source": [
    "target_year = # add target year\n",
    "temperature_df = # add temperature profile for the target year at daily resolution with a \"Temperature\" column and \"Date\" column"
   ]
  },
  {
   "cell_type": "code",
   "execution_count": 76,
   "metadata": {},
   "outputs": [
    {
     "name": "stderr",
     "output_type": "stream",
     "text": [
      "D:\\OneDrive - Cardiff University/05 - Python/01 - Packages/Functions\\functions.py:31: FutureWarning: weekofyear and week have been deprecated, please use DatetimeIndex.isocalendar().week instead, which returns a Series.  To exactly reproduce the behavior of week and weekofyear and return an Index, you may call pd.Int64Index(idx.isocalendar().week)\n",
      "  data[\"Week\"] = data.index.week\n"
     ]
    },
    {
     "name": "stdout",
     "output_type": "stream",
     "text": [
      "Calculate correction factor...\n",
      "0.9612027158098941 2062.0 1982.0000000000018\n",
      "(17520, 22)\n",
      "boiler\n",
      "Quantiles_list: [0.95]\n",
      "ASHP_heat\n",
      "Quantiles_list: [0.95, 0.9]\n",
      "resistance_heater\n",
      "Quantiles_list: [0.9]\n",
      "GSHP_heat\n",
      "Quantiles_list: [0.9]\n",
      "LargeHP_heat\n",
      "Quantiles_list: [0.9]\n",
      "ASHP_elec\n",
      "Quantiles_list: [0.95, 0.9]\n",
      "GSHP_elec\n",
      "Quantiles_list: [0.9]\n",
      "LargeHP_elec\n",
      "Quantiles_list: [0.9]\n"
     ]
    }
   ],
   "source": [
    "synthesized_df = pr.get_skeleton_df(target_year)\n",
    "synthesized_df = pd.merge(synthesized_df, temperature_df , left_on=\"Date\", right_on=\"Date\", how=\"left\")\n",
    "synthesized_df[\"Temperature\"] = synthesized_df[\"Temperature\"].fillna(method=\"ffill\")\n",
    "synthesized_df.set_index(\"index\", inplace=True, drop=True)\n",
    "\n",
    "print(\"Calculate correction factor...\")\n",
    "# Calculate the correction factor based on heating degree days\n",
    "nb_degree_days_SAP_UK = pr.get_nb_degree_days(temperatures_month_UK, target_year)\n",
    "correction_factor = 1+(pr.get_nb_degree_days(synthesized_df[\"Temperature\"].resample('1m').mean().values.ravel(), target_year)-nb_degree_days_SAP_UK)/nb_degree_days_SAP_UK\n",
    "print(correction_factor, nb_degree_days_SAP_UK, pr.get_nb_degree_days(synthesized_df[\"Temperature\"] .resample('1m').mean().values.ravel(), target_year))\n",
    "print(synthesized_df.shape)\n",
    "synthesized_df.reset_index(inplace=True)\n",
    "\n",
    "synthesized_df = pr.add_technology_profiles(synthesized_df)\n",
    "synthesized_df.set_index(\"index\", inplace=True, drop=True)"
   ]
  },
  {
   "cell_type": "markdown",
   "metadata": {},
   "source": [
    "### Normalisation of the profiles"
   ]
  },
  {
   "cell_type": "code",
   "execution_count": 77,
   "metadata": {},
   "outputs": [
    {
     "name": "stdout",
     "output_type": "stream",
     "text": [
      "ASHP_heat ASHP_elec\n",
      "GSHP_heat GSHP_elec\n",
      "Resistance_heater_heat Resistance_heater_elec\n",
      "Gas_boiler_heat Gas_boiler_gas\n"
     ]
    }
   ],
   "source": [
    "synthesized_df[\"Gas_boiler_heat\"] = synthesized_df[\"boiler\"]\n",
    "synthesized_df[\"Gas_boiler_gas\"] = synthesized_df[\"boiler\"]/0.84\n",
    "synthesized_df[\"Resistance_heater_heat\"] = synthesized_df[\"resistance_heater\"]\n",
    "synthesized_df[\"Resistance_heater_elec\"] = synthesized_df[\"resistance_heater\"]\n",
    "## Normalisation\n",
    "technologies_dict = {\"ASHP_heat\": \"ASHP_elec\",\n",
    "                    \"GSHP_heat\": \"GSHP_elec\",\n",
    "                    \"Resistance_heater_heat\": \"Resistance_heater_elec\",\n",
    "                    \"Gas_boiler_heat\": \"Gas_boiler_gas\"}\n",
    "\n",
    "cols_to_export = []\n",
    "for t_heat, t_energy in technologies_dict.items():\n",
    "    print(t_heat, t_energy)\n",
    "    # normalisation of heat \n",
    "    synthesized_df[\"Normalised_\"+t_heat] = synthesized_df[t_heat]/synthesized_df[t_heat].sum()*correction_factor\n",
    "    # normalisation of elec\n",
    "    synthesized_df[\"Normalised_\"+t_energy] = synthesized_df[t_energy]/synthesized_df[t_heat].sum()*correction_factor\n",
    "    \n",
    "    cols_to_export.append(\"Normalised_\"+t_heat)\n",
    "    cols_to_export.append(\"Normalised_\"+t_energy)"
   ]
  },
  {
   "cell_type": "code",
   "execution_count": null,
   "metadata": {},
   "outputs": [],
   "source": [
    "synthesized_df"
   ]
  }
 ],
 "metadata": {
  "kernelspec": {
   "display_name": "Python 3",
   "language": "python",
   "name": "python3"
  },
  "language_info": {
   "codemirror_mode": {
    "name": "ipython",
    "version": 3
   },
   "file_extension": ".py",
   "mimetype": "text/x-python",
   "name": "python",
   "nbconvert_exporter": "python",
   "pygments_lexer": "ipython3",
   "version": "3.7.9"
  }
 },
 "nbformat": 4,
 "nbformat_minor": 2
}
